{
 "cells": [
  {
   "cell_type": "markdown",
   "metadata": {},
   "source": [
    "# Unit 2 - Cost of Test\n",
    "\n",
    "Group members:\n",
    "\n",
    "- Ole Magnus Laerum\n",
    "- Piotr Franc"
   ]
  },
  {
   "cell_type": "markdown",
   "metadata": {},
   "source": [
    "# Task Description\n",
    "Consider the dataset Breastcancer with the following partition train/test. Consider the test costs for each attribute given by the array testcosts (the first position of the array corresponds to the first attribute, CL.thickness, the second to Cell.size..). Consider also misclassification costs where the cost of predicting “benign” when the actual class is “malignant” is 20. The cost of predicting “malignant” when the actual class is “benign” is 4. Hits cost 0.\n",
    "\n",
    "Try to minimise the global cost of your model. Draw a plot of test cost versus missclassification cost of the different options explored."
   ]
  },
  {
   "cell_type": "code",
   "execution_count": 5,
   "metadata": {
    "vscode": {
     "languageId": "r"
    }
   },
   "outputs": [],
   "source": [
    "# install.packages(\"caret\")\n",
    "# install.packages(\"mlbench\")\n",
    "# install.packages(\"C50\")\n",
    "library(caret)\n",
    "library(mlbench)\n",
    "\n",
    "data(BreastCancer)\n",
    "BreastCancer<-BreastCancer[,-1]\n",
    "set.seed(480)\n",
    "BreastCancer<-BreastCancer[complete.cases(BreastCancer),]\n",
    "hv_index <- createDataPartition(BreastCancer$Class, p = .75, list = FALSE)\n",
    "tr <- BreastCancer[ hv_index, ]\n",
    "te <- BreastCancer[-hv_index, ]\n",
    "testscosts<-c(2,4,3,1,5,3,2,4,2,0)\n",
    "cost_FP = 4\n",
    "cost_FN = 20"
   ]
  },
  {
   "cell_type": "code",
   "execution_count": 6,
   "metadata": {
    "vscode": {
     "languageId": "r"
    }
   },
   "outputs": [],
   "source": [
    "set.seed(144)\n",
    "index <- createDataPartition(BreastCancer$Class, p = 0.8, list = FALSE)\n",
    "train = BreastCancer[ index,]\n",
    "test  = BreastCancer[-index,]"
   ]
  },
  {
   "cell_type": "markdown",
   "metadata": {},
   "source": [
    "# Step 1"
   ]
  },
  {
   "cell_type": "code",
   "execution_count": null,
   "metadata": {
    "vscode": {
     "languageId": "r"
    }
   },
   "outputs": [],
   "source": [
    "create_model <- function(selected_indices){\n",
    "selected_attributes <- names(BreastCancer)[selected_indices]\n",
    "print(selected_attributes)\n",
    "formula = as.formula(paste(\"Class ~\", paste(selected_attributes, collapse = \" + \")))\n",
    "model <- train(formula, data = train, method = \"C5.0\")\n",
    "return(model)\n",
    "}"
   ]
  },
  {
   "cell_type": "code",
   "execution_count": 9,
   "metadata": {
    "vscode": {
     "languageId": "r"
    }
   },
   "outputs": [
    {
     "name": "stdout",
     "output_type": "stream",
     "text": [
      "[1] \"Cl.thickness\"\n"
     ]
    },
    {
     "ename": "ERROR",
     "evalue": "Error: object 'selected_indices' not found\n",
     "output_type": "error",
     "traceback": [
      "Error: object 'selected_indices' not found\nTraceback:\n"
     ]
    }
   ],
   "source": [
    "library(pROC)\n",
    "library(caret)\n",
    "\n",
    "\n",
    "for(i in 1:9){\n",
    "    model = create_model(c(i))\n",
    "\n",
    "    pred_probs <- predict(model, test, type = \"prob\")\n",
    "\n",
    "    Class_numeric <- ifelse(test$Class == \"malignant\", 1, 0)\n",
    "\n",
    "    preds <- predict(model, test)\n",
    "\n",
    "    cm <- confusionMatrix(preds, test$Class)\n",
    "\n",
    "    attributes_weights <- rep(0, length(testscosts))\n",
    "    attributes_weights[selected_indices] <- 1\n",
    "    cost = cm$table[3] * cost_FN + cm$table[2]*cost_FP + length(test) * sum(testscosts * attributes_weights)\n",
    "    print(cost)\n",
    "}\n"
   ]
  }
 ],
 "metadata": {
  "kernelspec": {
   "display_name": "R",
   "language": "R",
   "name": "ir"
  },
  "language_info": {
   "codemirror_mode": "r",
   "file_extension": ".r",
   "mimetype": "text/x-r-source",
   "name": "R",
   "pygments_lexer": "r",
   "version": "4.4.3"
  }
 },
 "nbformat": 4,
 "nbformat_minor": 2
}
