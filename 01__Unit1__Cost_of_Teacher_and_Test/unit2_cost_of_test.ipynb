{
 "cells": [
  {
   "cell_type": "markdown",
   "metadata": {},
   "source": [
    "# Unit 2 - Cost of Test\n",
    "\n",
    "Group members:\n",
    "\n",
    "- Ole Magnus Laerum\n",
    "- Piotr Franc"
   ]
  },
  {
   "cell_type": "markdown",
   "metadata": {},
   "source": [
    "# Task Description\n",
    "Consider the dataset Breastcancer with the following partition train/test. Consider the test costs for each attribute given by the array testcosts (the first position of the array corresponds to the first attribute, CL.thickness, the second to Cell.size..). Consider also misclassification costs where the cost of predicting “benign” when the actual class is “malignant” is 20. The cost of predicting “malignant” when the actual class is “benign” is 4. Hits cost 0.\n",
    "\n",
    "Try to minimise the global cost of your model. Draw a plot of test cost versus missclassification cost of the different options explored."
   ]
  },
  {
   "cell_type": "code",
   "execution_count": 3,
   "metadata": {
    "vscode": {
     "languageId": "r"
    }
   },
   "outputs": [
    {
     "name": "stdout",
     "output_type": "stream",
     "text": [
      "[1] \"hello world\"\n"
     ]
    }
   ],
   "source": [
    "print(\"hello world\")"
   ]
  },
  {
   "cell_type": "code",
   "execution_count": null,
   "metadata": {
    "vscode": {
     "languageId": "r"
    }
   },
   "outputs": [
    {
     "name": "stderr",
     "output_type": "stream",
     "text": [
      "Installing package into 'C:/Users/franc/AppData/Local/R/win-library/4.4'\n",
      "(as 'lib' is unspecified)\n",
      "\n"
     ]
    },
    {
     "name": "stdout",
     "output_type": "stream",
     "text": [
      "package 'caret' successfully unpacked and MD5 sums checked\n"
     ]
    },
    {
     "name": "stderr",
     "output_type": "stream",
     "text": [
      "Warning message:\n",
      "\"cannot remove prior installation of package 'caret'\"\n",
      "Warning message in file.copy(savedcopy, lib, recursive = TRUE):\n",
      "\"problem copying C:\\Users\\franc\\AppData\\Local\\R\\win-library\\4.4\\00LOCK\\caret\\libs\\x64\\caret.dll to C:\\Users\\franc\\AppData\\Local\\R\\win-library\\4.4\\caret\\libs\\x64\\caret.dll: Permission denied\"\n",
      "Warning message:\n",
      "\"restored 'caret'\"\n"
     ]
    },
    {
     "name": "stdout",
     "output_type": "stream",
     "text": [
      "\n",
      "The downloaded binary packages are in\n",
      "\tC:\\Users\\franc\\AppData\\Local\\Temp\\RtmpGwYdbB\\downloaded_packages\n"
     ]
    },
    {
     "name": "stderr",
     "output_type": "stream",
     "text": [
      "Installing package into 'C:/Users/franc/AppData/Local/R/win-library/4.4'\n",
      "(as 'lib' is unspecified)\n",
      "\n"
     ]
    },
    {
     "name": "stdout",
     "output_type": "stream",
     "text": [
      "package 'mlbench' successfully unpacked and MD5 sums checked\n"
     ]
    },
    {
     "name": "stderr",
     "output_type": "stream",
     "text": [
      "Warning message:\n",
      "\"cannot remove prior installation of package 'mlbench'\"\n",
      "Warning message in file.copy(savedcopy, lib, recursive = TRUE):\n",
      "\"problem copying C:\\Users\\franc\\AppData\\Local\\R\\win-library\\4.4\\00LOCK\\mlbench\\libs\\x64\\mlbench.dll to C:\\Users\\franc\\AppData\\Local\\R\\win-library\\4.4\\mlbench\\libs\\x64\\mlbench.dll: Permission denied\"\n",
      "Warning message:\n",
      "\"restored 'mlbench'\"\n"
     ]
    },
    {
     "name": "stdout",
     "output_type": "stream",
     "text": [
      "\n",
      "The downloaded binary packages are in\n",
      "\tC:\\Users\\franc\\AppData\\Local\\Temp\\RtmpGwYdbB\\downloaded_packages\n"
     ]
    },
    {
     "name": "stderr",
     "output_type": "stream",
     "text": [
      "Installing package into 'C:/Users/franc/AppData/Local/R/win-library/4.4'\n",
      "(as 'lib' is unspecified)\n",
      "\n"
     ]
    },
    {
     "name": "stdout",
     "output_type": "stream",
     "text": [
      "package 'C50' successfully unpacked and MD5 sums checked\n",
      "\n",
      "The downloaded binary packages are in\n",
      "\tC:\\Users\\franc\\AppData\\Local\\Temp\\RtmpGwYdbB\\downloaded_packages\n"
     ]
    },
    {
     "name": "stderr",
     "output_type": "stream",
     "text": [
      "Loading required package: ggplot2\n",
      "\n",
      "Loading required package: lattice\n",
      "\n"
     ]
    }
   ],
   "source": [
    "install.packages(\"caret\")\n",
    "install.packages(\"mlbench\")\n",
    "install.packages(\"C50\")\n",
    "\n",
    "library(caret)\n",
    "\n",
    "library(mlbench)\n",
    "data(BreastCancer)\n",
    "BreastCancer<-BreastCancer[,-1]\n",
    "set.seed(480)\n",
    "BreastCancer<-BreastCancer[complete.cases(BreastCancer),]\n",
    "hv_index <- createDataPartition(BreastCancer$Class, p = .75, list = FALSE)\n",
    "tr <- BreastCancer[ hv_index, ]\n",
    "te <- BreastCancer[-hv_index, ]\n",
    "testscosts<-c(2,4,3,1,5,3,2,4,2,0)\n",
    "\n"
   ]
  },
  {
   "cell_type": "code",
   "execution_count": null,
   "metadata": {
    "vscode": {
     "languageId": "r"
    }
   },
   "outputs": [],
   "source": [
    "set.seed(144)\n",
    "index <- createDataPartition(BreastCancer$Class, p = 0.7, list = FALSE)\n",
    "train = BreastCancer[ index,]\n",
    "test  = BreastCancer[-index,]\n",
    "\n",
    "model <- train(Class ~ ., data = train, method = \"C5.0\")"
   ]
  },
  {
   "cell_type": "code",
   "execution_count": 16,
   "metadata": {
    "vscode": {
     "languageId": "r"
    }
   },
   "outputs": [
    {
     "name": "stderr",
     "output_type": "stream",
     "text": [
      "Setting levels: control = 0, case = 1\n",
      "\n",
      "Setting direction: controls < cases\n",
      "\n"
     ]
    },
    {
     "data": {
      "text/html": [
       "0.993222492851848"
      ],
      "text/latex": [
       "0.993222492851848"
      ],
      "text/markdown": [
       "0.993222492851848"
      ],
      "text/plain": [
       "Area under the curve: 0.9932"
      ]
     },
     "metadata": {},
     "output_type": "display_data"
    },
    {
     "name": "stdout",
     "output_type": "stream",
     "text": [
      "Balanced Accuracy \n",
      "         1.963359 \n"
     ]
    },
    {
     "data": {
      "image/png": "[encoded data removed]",
      "text/plain": [
       "Plot with title \"ROC Curve for C5.0 Model\""
      ]
     },
     "metadata": {
      "image/png": {
       "height": 420,
       "width": 420
      }
     },
     "output_type": "display_data"
    }
   ],
   "source": [
    "library(pROC)\n",
    "library(caret)\n",
    "\n",
    "# Get probability predictions\n",
    "pred_probs <- predict(model, test, type = \"prob\")\n",
    "\n",
    "# Convert actual class labels to binary (Malignant = 1, Benign = 0)\n",
    "Class_numeric <- ifelse(test$Class == \"malignant\", 1, 0)\n",
    "\n",
    "# Compute and plot ROC curve\n",
    "roc_curve <- roc(Class_numeric, pred_probs[, \"malignant\"])\n",
    "plot(roc_curve, col = \"blue\", main = \"ROC Curve for C5.0 Model\")\n",
    "auc(roc_curve)\n",
    "\n",
    "# Get class predictions\n",
    "preds <- predict(model, test)\n",
    "\n",
    "# Compute confusion matrix\n",
    "cm <- confusionMatrix(preds, test$Class)\n",
    "\n",
    "# Example cost calculation (adjust index based on testscosts length)\n",
    "cost = cm$byClass[\"Balanced Accuracy\"] * testscosts[1]\n",
    "print(cost)\n"
   ]
  }
 ],
 "metadata": {
  "kernelspec": {
   "display_name": "R",
   "language": "R",
   "name": "ir"
  },
  "language_info": {
   "codemirror_mode": "r",
   "file_extension": ".r",
   "mimetype": "text/x-r-source",
   "name": "R",
   "pygments_lexer": "r",
   "version": "4.4.3"
  }
 },
 "nbformat": 4,
 "nbformat_minor": 2
}
