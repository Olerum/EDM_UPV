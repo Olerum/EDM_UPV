{
 "cells": [
  {
   "cell_type": "markdown",
   "metadata": {},
   "source": [
    "# Unit 2 - Cost of Test\n",
    "\n",
    "Group members:\n",
    "\n",
    "- Ole Magnus Laerum\n",
    "- Piotr Franc"
   ]
  },
  {
   "cell_type": "markdown",
   "metadata": {},
   "source": [
    "# Task Description\n",
    "Consider the dataset Breastcancer with the following partition tr/test. Consider the test costs for each attribute given by the array testcosts (the first position of the array corresponds to the first attribute, CL.thickness, the second to Cell.size..). Consider also misclassification costs where the cost of predicting “benign” when the actual class is “malignant” is 20. The cost of predicting “malignant” when the actual class is “benign” is 4. Hits cost 0.\n",
    "\n",
    "Try to minimise the global cost of your model. Draw a plot of test cost versus missclassification cost of the different options explored."
   ]
  },
  {
   "cell_type": "code",
   "execution_count": 15,
   "metadata": {
    "vscode": {
     "languageId": "r"
    }
   },
   "outputs": [],
   "source": [
    "library(caret)\n",
    "\n",
    "library(mlbench)\n",
    "data(BreastCancer)\n",
    "BreastCancer<-BreastCancer[,-1]\n",
    "set.seed(480)\n",
    "BreastCancer<-BreastCancer[complete.cases(BreastCancer),]\n",
    "hv_index <- createDataPartition(BreastCancer$Class, p = .75, list = FALSE)\n",
    "train <- BreastCancer[ hv_index, ]\n",
    "test <- BreastCancer[-hv_index, ]\n",
    "testscosts<-c(2,4,3,1,5,3,2,4,2,0)  \n",
    "cost_FP = 4\n",
    "cost_FN = 20"
   ]
  },
  {
   "cell_type": "markdown",
   "metadata": {},
   "source": [
    "## Part 1 - Find the global minimum"
   ]
  },
  {
   "cell_type": "code",
   "execution_count": 16,
   "metadata": {
    "vscode": {
     "languageId": "r"
    }
   },
   "outputs": [],
   "source": [
    "create_model <- function(selected_indices){\n",
    "selected_attributes <- names(BreastCancer)[selected_indices]\n",
    "formula = as.formula(paste(\"Class ~\", paste(selected_attributes, collapse = \" + \")))\n",
    "model <- train(formula, data = train, method = \"rf\")\n",
    "return(model)\n",
    "}\n",
    "\n",
    "get_costs <- function(selected_indices){\n",
    "    model <- create_model(selected_indices)\n",
    "    \n",
    "    preds <- predict(model, test)\n",
    "    cm <- confusionMatrix(preds, test$Class)\n",
    "\n",
    "    costs <- list()  \n",
    "\n",
    "    attributes_weights <- rep(0, length(testscosts))  \n",
    "    attributes_weights[selected_indices] <- 1  \n",
    "\n",
    "    FN = cm$table[\"benign\", \"malignant\"]\n",
    "    FP = cm$table[\"malignant\", \"benign\"]\n",
    "    \n",
    "    costs$errors_cost <- FN * cost_FN + FP * cost_FP\n",
    "    costs$tests_cost <- nrow(test) * sum(testscosts * attributes_weights)\n",
    "    costs$total_cost <- FN * cost_FN + FP * cost_FP + nrow(test) * sum(testscosts * attributes_weights)\n",
    "\n",
    "    return(costs)\n",
    "}"
   ]
  },
  {
   "cell_type": "code",
   "execution_count": 17,
   "metadata": {
    "vscode": {
     "languageId": "r"
    }
   },
   "outputs": [
    {
     "name": "stdout",
     "output_type": "stream",
     "text": [
      "Id   Attribute  \ttotal_cost\terrors_cost\ttests_cost\n",
      "1   Cl.thickness                780        440        340\n",
      "2   Cell.size                   912        232        680\n",
      "3   Cell.shape                  710        200        510\n",
      "4   Marg.adhesion               526        356        170\n",
      "5   Epith.c.size               1010        160        850\n",
      "6   Bare.nuclei                 754        244        510\n",
      "7   Bl.cromatin                 564        224        340\n",
      "8   Normal.nucleoli             944        264        680\n",
      "9   Mitoses                     996        656        340\n"
     ]
    }
   ],
   "source": [
    "attrs_results = list()\n",
    "\n",
    "cat(\"Id   Attribute  \\ttotal_cost\\terrors_cost\\ttests_cost\\n\")\n",
    "for (i in 1:9) {\n",
    "    attrs = c(i)\n",
    "    costs = get_costs(attrs)\n",
    "\n",
    "    attr_name = names(BreastCancer)[attrs]\n",
    "\n",
    "    # Proper way to assign values to a list in R\n",
    "    attrs_results[[i]] <- list(\n",
    "        errors_cost = costs$errors_cost,\n",
    "        tests_cost = costs$tests_cost,\n",
    "        total_cost = costs$total_cost\n",
    "    )\n",
    "\n",
    "    cat(sprintf(\"%-3d %-20s %10d %10d %10d\\n\", i, attr_name, costs$total_cost, costs$errors_cost, costs$tests_cost))\n",
    "}"
   ]
  },
  {
   "cell_type": "markdown",
   "metadata": {},
   "source": [
    "### Takeaways\n",
    "As we see, Marg.adhesion has a total cost of 526, 170 of which comes from the tests. \n",
    "\n",
    "We can notice that when we try to add any attribute with a cost of more than 2 (everything apart from Cl.thickness, Bl.cromatin, and Mitoses), the tests costs alone will be greater than this model even with a 100% accuracy\n",
    "\n",
    "This means that we only need to test for these three combinations in order to find the global minimum\n",
    "- Marg.adhesion + Cl.thickness\n",
    "- Marg.adhesion + Bl.cromatin\n",
    "- Marg.adhesion + Mitoses"
   ]
  },
  {
   "cell_type": "code",
   "execution_count": 18,
   "metadata": {
    "vscode": {
     "languageId": "r"
    }
   },
   "outputs": [],
   "source": [
    "# Marg.adhesion + Cl.thickness\n",
    "costs_1_4 = get_costs(c(1,4))\n",
    "costs_4_7 = get_costs(c(4,7))\n",
    "costs_4_9 = get_costs(c(4,9))"
   ]
  },
  {
   "cell_type": "code",
   "execution_count": 19,
   "metadata": {
    "vscode": {
     "languageId": "r"
    }
   },
   "outputs": [
    {
     "name": "stdout",
     "output_type": "stream",
     "text": [
      "Names\t\t\t\tcost\terrors_cost\ttests_cost\n"
     ]
    },
    {
     "name": "stdout",
     "output_type": "stream",
     "text": [
      "Cl.thickness Marg.adhesion \t 686 \t 176 \t\t 510 \n",
      "Marg.adhesion Bl.cromatin \t 626 \t 116 \t\t 510 \n",
      "Marg.adhesion Mitoses   \t 782 \t 272 \t\t 510 \n"
     ]
    }
   ],
   "source": [
    "cat(\"Names\\t\\t\\t\\tcost\\terrors_cost\\ttests_cost\\n\")\n",
    "\n",
    "cat(names(BreastCancer)[c(1,4)],\"\\t\",costs_1_4$total_cost, \"\\t\", costs_1_4$errors_cost, \"\\t\\t\", costs_1_4$tests_cost, \"\\n\")\n",
    "\n",
    "cat(names(BreastCancer)[c(4,7)],\"\\t\",costs_4_7$total_cost, \"\\t\", costs_4_7$errors_cost, \"\\t\\t\", costs_4_7$tests_cost, \"\\n\")\n",
    "\n",
    "cat(names(BreastCancer)[c(4,9)],\"  \\t\",costs_4_9$total_cost, \"\\t\", costs_4_9$errors_cost, \"\\t\\t\", costs_4_9$tests_cost, \"\\n\")"
   ]
  },
  {
   "cell_type": "code",
   "execution_count": 56,
   "metadata": {
    "vscode": {
     "languageId": "r"
    }
   },
   "outputs": [
    {
     "data": {
      "image/png": "[encoded data removed]",
      "text/plain": [
       "Plot with title \"Cost Breakdown by Attribute\""
      ]
     },
     "metadata": {
      "image/png": {
       "height": 420,
       "width": 420
      }
     },
     "output_type": "display_data"
    }
   ],
   "source": [
    "df <- data.frame(\n",
    "    Id = 1:9,\n",
    "    Attribute = sapply(1:9, function(i) names(BreastCancer)[i]),\n",
    "    Errors_Cost = sapply(attrs_results, function(x) x$errors_cost),\n",
    "    Tests_Cost = sapply(attrs_results, function(x) x$tests_cost)\n",
    ")\n",
    "\n",
    "combined_costs <- data.frame(\n",
    "    Id = c(10, 11, 12),\n",
    "    Attribute = c(\"Cl.thickness + Marg.adhesion\", \"Marg.adhesion + Bl.cromatin\", \"Marg.adhesion + Mitoses\"),\n",
    "    Errors_Cost = c(costs_1_4$errors_cost, costs_4_7$errors_cost, costs_4_9$errors_cost),\n",
    "    Tests_Cost = c(costs_1_4$tests_cost, costs_4_7$tests_cost, costs_4_9$tests_cost)\n",
    ")\n",
    "\n",
    "df <- rbind(df, combined_costs)\n",
    "\n",
    "cost_matrix <- t(as.matrix(df[, c(\"Errors_Cost\", \"Tests_Cost\")]))\n",
    "\n",
    "par(mar = c(10, 4, 4, 2))\n",
    "\n",
    "# Stacked bar plot\n",
    "barplot(cost_matrix, beside = FALSE, names.arg = df$Attribute, col = c(\"red\", \"blue\"),\n",
    "        main = \"Cost Breakdown by Attribute\", xlab = \"Attribute\", ylab = \"Cost\",\n",
    "        legend.text = c(\"Misclassification\", \"Tests\"), las = 2, cex.names = 0.7, ylim = c(0, max(cost_matrix) * 1.2))\n"
   ]
  },
  {
   "cell_type": "markdown",
   "metadata": {},
   "source": [
    "## Part 2 - Trying to find the minimum for Tests Costs\n",
    "Since the global minimum is accomplished using one attribute and the exercise also includes drawing a plot of cost of test vs misclassification I decided to find best model to minimize the misclassification costs\n",
    "We'll accomplish this by sorting the models by their Errors Cost accuracy"
   ]
  },
  {
   "cell_type": "code",
   "execution_count": 60,
   "metadata": {
    "vscode": {
     "languageId": "r"
    }
   },
   "outputs": [
    {
     "data": {
      "image/png": "[encoded data removed]",
      "text/plain": [
       "Plot with title \"Test Cost vs. Misclassification Cost (Incremental Models)\""
      ]
     },
     "metadata": {
      "image/png": {
       "height": 420,
       "width": 420
      }
     },
     "output_type": "display_data"
    }
   ],
   "source": [
    "df <- data.frame(\n",
    "    Id = 1:9,\n",
    "    Attribute = sapply(1:9, function(i) names(BreastCancer)[i]),\n",
    "    Errors_Cost = sapply(attrs_results, function(x) x$errors_cost),\n",
    "    Tests_Cost = sapply(attrs_results, function(x) x$tests_cost),\n",
    "    Total_Cost = sapply(attrs_results, function(x) x$total_cost)\n",
    ")\n",
    "\n",
    "df_best <- df[order(df$Errors_Cost), ]\n",
    "\n",
    "cumulative_errors <- c()\n",
    "cumulative_tests <- c()\n",
    "attr_combinations <- list()\n",
    "\n",
    "for (i in 1:9) {\n",
    "    selected_attrs <- df_best$Id[1:i]\n",
    "    attr_combinations[[i]] <- i\n",
    "    \n",
    "    costs <- get_costs(selected_attrs)\n",
    "    \n",
    "    cumulative_errors[i] <- costs$errors_cost\n",
    "    cumulative_tests[i] <- costs$tests_cost\n",
    "}\n",
    "\n",
    "par(mar = c(6, 6, 4, 2))\n",
    "plot(cumulative_tests, cumulative_errors, \n",
    "     xlab = \"Test Cost\", ylab = \"Misclassification Cost\", \n",
    "     main = \"Test Cost vs. Misclassification Cost (Incremental Models)\",\n",
    "     type = \"o\", pch = 16, lwd = 2)\n",
    "\n",
    "text(cumulative_tests, cumulative_errors, labels = attr_combinations, pos = 4, cex = 1)\n",
    "\n"
   ]
  },
  {
   "cell_type": "markdown",
   "metadata": {},
   "source": [
    "This approach shows the tradeoff of tests costs when trying to achieve the lowest misclassification cost"
   ]
  }
 ],
 "metadata": {
  "kernelspec": {
   "display_name": "R",
   "language": "R",
   "name": "ir"
  },
  "language_info": {
   "codemirror_mode": "r",
   "file_extension": ".r",
   "mimetype": "text/x-r-source",
   "name": "R",
   "pygments_lexer": "r",
   "version": "4.4.3"
  }
 },
 "nbformat": 4,
 "nbformat_minor": 2
}
