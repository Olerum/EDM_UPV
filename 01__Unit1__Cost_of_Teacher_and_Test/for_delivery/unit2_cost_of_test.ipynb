{
 "cells": [
  {
   "cell_type": "markdown",
   "metadata": {},
   "source": [
    "# Unit 2 - Cost of Test\n",
    "\n",
    "Group members:\n",
    "\n",
    "- Ole Magnus Laerum\n",
    "- Piotr Franc"
   ]
  },
  {
   "cell_type": "markdown",
   "metadata": {},
   "source": [
    "## Task Description\n",
    "Consider the dataset Breastcancer with the following partition tr/test. Consider the test costs for each attribute given by the array testcosts (the first position of the array corresponds to the first attribute, CL.thickness, the second to Cell.size..). Consider also misclassification costs where the cost of predicting “benign” when the actual class is “malignant” is 20. The cost of predicting “malignant” when the actual class is “benign” is 4. Hits cost 0.\n",
    "\n",
    "Try to minimise the global cost of your model. Draw a plot of test cost versus missclassification cost of the different options explored."
   ]
  },
  {
   "cell_type": "code",
   "execution_count": 41,
   "metadata": {
    "vscode": {
     "languageId": "r"
    }
   },
   "outputs": [],
   "source": [
    "library(caret)\n",
    "\n",
    "library(mlbench)\n",
    "data(BreastCancer)\n",
    "BreastCancer<-BreastCancer[,-1]\n",
    "set.seed(480)\n",
    "BreastCancer<-BreastCancer[complete.cases(BreastCancer),]\n",
    "hv_index <- createDataPartition(BreastCancer$Class, p = .75, list = FALSE)\n",
    "train <- BreastCancer[ hv_index, ]\n",
    "test <- BreastCancer[-hv_index, ]\n",
    "testscosts<-c(2,4,3,1,5,3,2,4,2,0)  \n",
    "cost_FP = 4\n",
    "cost_FN = 20"
   ]
  },
  {
   "cell_type": "markdown",
   "metadata": {},
   "source": [
    "## Part 1 - Find the promising attributes"
   ]
  },
  {
   "cell_type": "code",
   "execution_count": 42,
   "metadata": {
    "vscode": {
     "languageId": "r"
    }
   },
   "outputs": [],
   "source": [
    "create_model <- function(selected_indices) {\n",
    "    selected_attributes <- names(BreastCancer)[selected_indices]\n",
    "    formula <- as.formula(paste(\"Class ~\", paste(selected_attributes, collapse = \" + \")))\n",
    "\n",
    "    model <- train(formula, \n",
    "               data = train, \n",
    "               method = \"rf\", \n",
    "               verbose = FALSE, \n",
    "               trControl = trainControl(method = \"none\"))\n",
    "    return(model)\n",
    "}\n",
    "\n",
    "get_costs <- function(selected_indices){\n",
    "    model <- create_model(selected_indices)\n",
    "    \n",
    "    pred_probs <- predict(model, test, type = \"prob\")\n",
    "    threshold <- 0.1\n",
    "    preds <- factor(ifelse(pred_probs[, \"malignant\"] > threshold, \"malignant\", \"benign\"),\n",
    "                levels = levels(test$Class))\n",
    "    cm <- confusionMatrix(preds, test$Class)\n",
    "    # print(cm$table)\n",
    "    costs <- list()  \n",
    "\n",
    "    attributes_weights <- rep(0, length(testscosts))  \n",
    "    attributes_weights[selected_indices] <- 1  \n",
    "\n",
    "    FN = cm$table[\"benign\", \"malignant\"]\n",
    "    FP = cm$table[\"malignant\", \"benign\"]\n",
    "    \n",
    "    costs$errors_cost <- FN * cost_FN + FP * cost_FP\n",
    "    costs$tests_cost <- nrow(test) * sum(testscosts * attributes_weights)\n",
    "    # costs$tests_cost <-  sum(testscosts * attributes_weights)\n",
    "    costs$total_cost <- costs$tests_cost + costs$errors_cost\n",
    "\n",
    "    return(costs)\n",
    "}"
   ]
  },
  {
   "cell_type": "code",
   "execution_count": 43,
   "metadata": {
    "vscode": {
     "languageId": "r"
    }
   },
   "outputs": [
    {
     "name": "stdout",
     "output_type": "stream",
     "text": [
      "Id   Attribute  \ttotal_cost\terrors_cost\ttests_cost\n",
      "1   Cl.thickness                780        440        340\n",
      "2   Cell.size                   768         88        680\n",
      "3   Cell.shape                  710        200        510\n",
      "4   Marg.adhesion               422        252        170\n",
      "5   Epith.c.size               1010        160        850\n",
      "6   Bare.nuclei                 658        148        510\n",
      "7   Bl.cromatin                 564        224        340\n",
      "8   Normal.nucleoli             944        264        680\n",
      "9   Mitoses                     996        656        340\n"
     ]
    }
   ],
   "source": [
    "attrs_results = list()\n",
    "\n",
    "cat(\"Id   Attribute  \\ttotal_cost\\terrors_cost\\ttests_cost\\n\")\n",
    "for (i in 1:9) {\n",
    "    attrs = c(i)\n",
    "    costs = get_costs(attrs)\n",
    "\n",
    "    attr_name = names(BreastCancer)[attrs]\n",
    "\n",
    "    attrs_results[[i]] <- list(\n",
    "        errors_cost = costs$errors_cost,\n",
    "        tests_cost = costs$tests_cost,\n",
    "        total_cost = costs$total_cost\n",
    "    )\n",
    "\n",
    "    cat(sprintf(\"%-3d %-20s %10d %10d %10d\\n\", i, attr_name, costs$total_cost, costs$errors_cost, costs$tests_cost))\n",
    "}   "
   ]
  },
  {
   "cell_type": "markdown",
   "metadata": {},
   "source": [
    "### Takeaways\n",
    "As we see, Marg.adhesion has a total cost of 422, 170 of which comes from the tests. \n",
    "\n",
    "We can notice that when we try to add any other attribute the cost of tests will already outweight the total cost of this model, which means that this is the global minimum"
   ]
  },
  {
   "cell_type": "markdown",
   "metadata": {},
   "source": [
    "## Part 2 - Trying to find the minimum for Tests Costs\n",
    "Since the global minimum is achieved using a single attribute, we aim to analyze the relationship between test costs and misclassification costs. To achieve this, we will evaluate the model’s performance using subsets of attributes ranging from 1 to 9."
   ]
  },
  {
   "cell_type": "code",
   "execution_count": 46,
   "metadata": {
    "vscode": {
     "languageId": "r"
    }
   },
   "outputs": [
    {
     "name": "stdout",
     "output_type": "stream",
     "text": [
      "Selected Attributes: Marg.adhesion \n",
      "Selected Attributes: Marg.adhesion Bl.cromatin \n",
      "Selected Attributes: Marg.adhesion Bl.cromatin Bare.nuclei \n",
      "Selected Attributes: Marg.adhesion Bl.cromatin Bare.nuclei Cell.shape \n",
      "Selected Attributes: Marg.adhesion Bl.cromatin Bare.nuclei Cell.shape Cell.size \n",
      "Selected Attributes: Marg.adhesion Bl.cromatin Bare.nuclei Cell.shape Cell.size Cl.thickness \n",
      "Selected Attributes: Marg.adhesion Bl.cromatin Bare.nuclei Cell.shape Cell.size Cl.thickness Normal.nucleoli \n",
      "Selected Attributes: Marg.adhesion Bl.cromatin Bare.nuclei Cell.shape Cell.size Cl.thickness Normal.nucleoli Mitoses \n",
      "Selected Attributes: Marg.adhesion Bl.cromatin Bare.nuclei Cell.shape Cell.size Cl.thickness Normal.nucleoli Mitoses Epith.c.size \n"
     ]
    },
    {
     "data": {
      "image/png": "[encoded data removed]",
      "text/plain": [
       "Plot with title \"Test Cost vs. Misclassification Cost (Incremental Models)\""
      ]
     },
     "metadata": {
      "image/png": {
       "height": 420,
       "width": 420
      }
     },
     "output_type": "display_data"
    }
   ],
   "source": [
    "df <- data.frame(\n",
    "    Id = 1:9,\n",
    "    Attribute = sapply(1:9, function(i) names(BreastCancer)[i]),\n",
    "    Errors_Cost = sapply(attrs_results, function(x) x$errors_cost),\n",
    "    Tests_Cost = sapply(attrs_results, function(x) x$tests_cost),\n",
    "    Total_Cost = sapply(attrs_results, function(x) x$total_cost)\n",
    ")\n",
    "\n",
    "# Sort by Total Cost\n",
    "df_best <- df[order(df$Total_Cost), ]\n",
    "\n",
    "cumulative_errors <- c()\n",
    "cumulative_tests <- c()\n",
    "attr_combinations <- list()\n",
    "\n",
    "for (i in 1:9) {\n",
    "    selected_attrs <- df_best$Id[1:i]\n",
    "    cat(\"Selected Attributes:\", names(BreastCancer)[selected_attrs], \"\\n\")\n",
    "    attr_combinations[[i]] <- i\n",
    "    \n",
    "    costs <- get_costs(selected_attrs)\n",
    "    \n",
    "    cumulative_errors[i] <- costs$errors_cost\n",
    "    cumulative_tests[i] <- costs$tests_cost\n",
    "}\n",
    "\n",
    "par(mar = c(6, 6, 4, 2))\n",
    "plot(cumulative_tests, cumulative_errors, \n",
    "     xlab = \"Test Cost\", ylab = \"Misclassification Cost\", \n",
    "     main = \"Test Cost vs. Misclassification Cost (Incremental Models)\",\n",
    "     type = \"o\", pch = 16, lwd = 2)\n",
    "\n",
    "text(cumulative_tests, cumulative_errors, labels = attr_combinations, pos = 4, cex = 1)\n",
    "\n"
   ]
  }
 ],
 "metadata": {
  "kernelspec": {
   "display_name": "R",
   "language": "R",
   "name": "ir"
  },
  "language_info": {
   "codemirror_mode": "r",
   "file_extension": ".r",
   "mimetype": "text/x-r-source",
   "name": "R",
   "pygments_lexer": "r",
   "version": "4.4.3"
  }
 },
 "nbformat": 4,
 "nbformat_minor": 2
}
