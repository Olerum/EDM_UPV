{
 "cells": [
  {
   "cell_type": "markdown",
   "metadata": {},
   "source": [
    "# Unit 1 - Cost of Teacher\n",
    "\n",
    "Group members:\n",
    "\n",
    "- Ole Magnus Laerum\n",
    "- Piotr Franc"
   ]
  },
  {
   "cell_type": "markdown",
   "metadata": {},
   "source": [
    "## Task description\n",
    "Use the dataset BostonHousing2 (target value is target_column) with the following train1/train2/test partition. Use the dataset train1 to explore learning methods and techniques in a way that you want to reduce the amount of data used for training without compromising the performance of the model too much. Once the best methodology is selected, use it with train2 to show a plot of performance (RMSE) vs instances employed measured with the test partition. Grow this plot incrementally (i.e, add new instances to the already used instances) Select the instances of train2 without using the class label of the instances already not employed."
   ]
  },
  {
   "cell_type": "code",
   "execution_count": 61,
   "metadata": {},
   "outputs": [],
   "source": [
    "### ---- Import libraries ------------------------------------------------------------------------------------------------\n",
    "import numpy as np\n",
    "import pandas as pd\n",
    "import matplotlib.pyplot as plt\n",
    "from sklearn.datasets import fetch_openml\n",
    "from sklearn.model_selection import train_test_split\n",
    "from sklearn.metrics import mean_squared_error\n",
    "from sklearn.linear_model import LinearRegression\n",
    "from sklearn.tree import DecisionTreeRegressor\n",
    "from sklearn.ensemble import RandomForestRegressor\n",
    "from sklearn.svm import SVR\n",
    "from xgboost import XGBRegressor\n",
    "\n",
    "from sklearn.linear_model import Ridge\n",
    "from sklearn.neighbors import KNeighborsRegressor\n",
    "from sklearn.ensemble import StackingRegressor\n",
    "from sklearn.ensemble import GradientBoostingRegressor\n"
   ]
  },
  {
   "cell_type": "code",
   "execution_count": 62,
   "metadata": {},
   "outputs": [
    {
     "name": "stdout",
     "output_type": "stream",
     "text": [
      "Train1 size: (202, 13)\n",
      "Train2 size: (152, 13)\n",
      "Test size: (152, 13)\n",
      "------------------------------ RMSE values for 9 models:------------------------------------------------------------\n",
      "Linear Regression: 5.31\n",
      "Decision Tree: 6.55\n",
      "Random Forest: 3.44\n",
      "XGBoost: 3.11\n",
      "Gradient Boosting: 3.10\n",
      "SVR: 8.13\n",
      "Ridge Regression: 5.31\n",
      "k-NN: 6.76\n",
      "Stacking: 3.22\n",
      "\n",
      "Best model: Gradient Boosting with RMSE: 3.10\n",
      "------------------------------ Running incremental learning with Gradient Boosting:------------------------------------------------------------\n"
     ]
    },
    {
     "data": {
      "image/png": "[encoded data removed]",
      "text/plain": [
       "<Figure size 640x480 with 1 Axes>"
      ]
     },
     "metadata": {},
     "output_type": "display_data"
    }
   ],
   "source": [
    "### ---- Import the dataset -------------------------------------------------------------------------------------------------\n",
    "\n",
    "boston = fetch_openml(data_id=531, as_frame=True, parser='pandas')\n",
    "data = boston.frame\n",
    "\n",
    "# Remove column index 4 to match R code\n",
    "mddata = data.drop(columns=[data.columns[4]])\n",
    "\n",
    "np.random.seed(280)\n",
    "\n",
    "train1, temp = train_test_split(mddata, test_size=0.6, random_state=280)\n",
    "train2, test = train_test_split(temp, test_size=0.5, random_state=280)\n",
    "\n",
    "print(\"Train1 size:\", train1.shape)\n",
    "print(\"Train2 size:\", train2.shape)\n",
    "print(\"Test size:\", test.shape)\n",
    "\n",
    "### --- Preprocessing the dataset -- Fix the datatypes that are categories and not float64 -------------------------------------\n",
    "\n",
    "train1[\"CHAS\"] = train1[\"CHAS\"].astype(int)\n",
    "train1[\"RAD\"] = train1[\"RAD\"].astype(int)\n",
    "\n",
    "train2[\"CHAS\"] = train2[\"CHAS\"].astype(int)\n",
    "train2[\"RAD\"] = train2[\"RAD\"].astype(int)\n",
    "\n",
    "test[\"CHAS\"] = test[\"CHAS\"].astype(int)\n",
    "test[\"RAD\"] = test[\"RAD\"].astype(int)\n",
    "\n",
    "target_column = \"MEDV\"\n",
    "\n",
    "def train_and_evaluate(train, test, target_column, model):\n",
    "    model.fit(train.drop(columns=[target_column]), train[target_column])\n",
    "\n",
    "    preds = model.predict(test.drop(columns=[target_column]))\n",
    "    mse = np.sqrt(mean_squared_error(test[target_column], preds))\n",
    "\n",
    "    return mse\n",
    "\n",
    "### ---- Models ----------------------------------------------------------------------------------------------------\n",
    "models = {\n",
    "    \"Linear Regression\": LinearRegression(),\n",
    "    \"Decision Tree\": DecisionTreeRegressor(max_depth=1000, random_state=13),\n",
    "    \"Random Forest\": RandomForestRegressor(n_estimators=100, random_state=42),\n",
    "    \"XGBoost\": XGBRegressor(n_estimators=100, learning_rate=0.1, max_depth=3),\n",
    "    \"Gradient Boosting\": GradientBoostingRegressor(n_estimators=100, learning_rate=0.1, max_depth=3),\n",
    "    \"SVR\": SVR(kernel='rbf'),\n",
    "    \"Ridge Regression\": Ridge(alpha=1.0),\n",
    "    \"k-NN\": KNeighborsRegressor(n_neighbors=5),\n",
    "    \"Stacking\": StackingRegressor(\n",
    "        estimators=[\n",
    "            ('lr', LinearRegression()),\n",
    "            ('rf', RandomForestRegressor(n_estimators=100, random_state=42)),\n",
    "            (\"gbr\", GradientBoostingRegressor(n_estimators=100, learning_rate=0.1, max_depth=3))\n",
    "        ],\n",
    "        final_estimator=Ridge()\n",
    "    )\n",
    "}\n",
    "\n",
    "\n",
    "### ---- Train and Evaluate ----------------------------------------------------------------------------------------------------\n",
    "\n",
    "print(\"-\"*30 + f\" RMSE values for {len(models)} models:\" + \"-\" * 60)\n",
    "\n",
    "results = {}\n",
    "for name, model in models.items():\n",
    "    rmse = train_and_evaluate(train1, test, target_column, model)\n",
    "    results[name] = rmse\n",
    "    print(f\"{name}: {rmse:.2f}\")\n",
    "\n",
    "best_model_name = min(results, key=results.get)\n",
    "best_model = models[best_model_name]\n",
    "\n",
    "print(f\"\\nBest model: {best_model_name} with RMSE: {results[best_model_name]:.2f}\")\n",
    "\n",
    "\n",
    "### ---- Incremental Learning ----------------------------------------------------------------------------------------------------\n",
    "\n",
    "print(\"-\"*30 + f\" Running incremental learning with {best_model_name}:\" + \"-\" * 60)\n",
    "rmse_values = []\n",
    "num_instances = []\n",
    "\n",
    "for size in range(10, len(train2), 10):  \n",
    "    partial_train2 = train2.iloc[:size]\n",
    "    best_model.fit(partial_train2.drop(columns=[target_column]), partial_train2[target_column])\n",
    "    \n",
    "    preds = best_model.predict(test.drop(columns=[target_column]))\n",
    "    rmse = np.sqrt(mean_squared_error(test[target_column], preds))\n",
    "    \n",
    "    rmse_values.append(rmse)\n",
    "    num_instances.append(size)\n",
    "\n",
    "    \n",
    "\n",
    "### ---- Plotting ----------------------------------------------------------------------------------------------------\n",
    "\n",
    "plt.plot(num_instances, rmse_values, marker='o', linestyle='-')\n",
    "plt.xlabel(\"Number of Instances\")\n",
    "plt.ylabel(\"RMSE\")\n",
    "plt.title(\"RMSE vs Number of Instances\")\n",
    "plt.show()\n"
   ]
  },
  {
   "cell_type": "markdown",
   "metadata": {},
   "source": [
    "### TO DO\n",
    "\n",
    "1. Time each model, how long it takes\n",
    "2. Give a score based on RMSE per time, select the one with the highest\n",
    "3. Find where he said \"Not just select the best one\" \n",
    "4. Read up on models, which is good, which should I use.\n",
    "5. Figure out how the report should be "
   ]
  }
 ],
 "metadata": {
  "kernelspec": {
   "display_name": "EDM_venv",
   "language": "python",
   "name": "python3"
  },
  "language_info": {
   "codemirror_mode": {
    "name": "ipython",
    "version": 3
   },
   "file_extension": ".py",
   "mimetype": "text/x-python",
   "name": "python",
   "nbconvert_exporter": "python",
   "pygments_lexer": "ipython3",
   "version": "3.13.2"
  }
 },
 "nbformat": 4,
 "nbformat_minor": 2
}
