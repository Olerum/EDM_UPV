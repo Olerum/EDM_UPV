{
 "cells": [
  {
   "cell_type": "markdown",
   "metadata": {},
   "source": [
    "# Unit 1 - Cost of Teacher\n",
    "\n",
    "Group members:\n",
    "\n",
    "- Ole Magnus Laerum\n",
    "- Piotr Franc"
   ]
  },
  {
   "cell_type": "markdown",
   "metadata": {},
   "source": [
    "## Task description\n",
    "Use the dataset BostonHousing2 (target value is cmedv) with the following train1/train2/test partition. Use the dataset train1 to explore learning methods and techniques in a way that you want to reduce the amount of data used for training without compromising the performance of the model too much. Once the best methodology is selected, use it with train2 to show a plot of performance (RMSE) vs instances employed measured with the test partition. Grow this plot incrementally (i.e, add new instances to the already used instances) Select the instances of train2 without using the class label of the instances already not employed."
   ]
  },
  {
   "cell_type": "code",
   "execution_count": 2,
   "metadata": {},
   "outputs": [
    {
     "name": "stdout",
     "output_type": "stream",
     "text": [
      "Hello World\n"
     ]
    }
   ],
   "source": [
    "import numpy as np\n",
    "import pandas as pd\n",
    "from sklearn.model_selection import train_test_split\n",
    "from sklearn.datasets import fetch_openml\n",
    "\n",
    "text = \"\"\"# Load Boston Housing dataset\n",
    "boston = fetch_openml(name='boston', as_frame=True)\n",
    "boston_df = boston.frame\n",
    "boston_df.rename(columns={'medv': 'cmedv'}, inplace=True)\n",
    "\n",
    "# Drop unwanted column\n",
    "boston_df.drop(columns=['chas'], inplace=True)\n",
    "\n",
    "# Partitioning the dataset\n",
    "np.random.seed(280)\n",
    "tr1, temp = train_test_split(boston_df, test_size=0.6, random_state=280)\n",
    "tr2, te = train_test_split(temp, test_size=0.5, random_state=280)\"\"\"\n",
    "\n",
    "print(\"Hello World\")\n"
   ]
  }
 ],
 "metadata": {
  "kernelspec": {
   "display_name": "EDM_venv",
   "language": "python",
   "name": "python3"
  },
  "language_info": {
   "codemirror_mode": {
    "name": "ipython",
    "version": 3
   },
   "file_extension": ".py",
   "mimetype": "text/x-python",
   "name": "python",
   "nbconvert_exporter": "python",
   "pygments_lexer": "ipython3",
   "version": "3.13.2"
  }
 },
 "nbformat": 4,
 "nbformat_minor": 2
}
